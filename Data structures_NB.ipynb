{
 "cells": [
  {
   "cell_type": "markdown",
   "metadata": {},
   "source": [
    "## This is a notebook to implement some common Abstract Datastructures"
   ]
  },
  {
   "cell_type": "code",
   "execution_count": null,
   "metadata": {},
   "outputs": [],
   "source": [
    "\"\"\"This stack class is implemented based off the python list data structure\n",
    "\"\"\"\n",
    "class Stack:\n",
    "    def __init__(self):\n",
    "        self.items = []\n",
    "        \n",
    "    def push(self, item):\n",
    "        \"\"\" This method appends an item to the front of the list\n",
    "        top of the stack\n",
    "        \n",
    "        It appends the item in constant O91time\n",
    "        \"\"\"\n",
    "        self.items.append(item)\n",
    "    def pop(self):\n",
    "        \"\"\" This method removes and returns the element at the top \n",
    "        of the stack\n",
    "        \n",
    "        It removes the item at constant O(1) time\n",
    "        \"\"\"\n",
    "        if self.items:\n",
    "            return self.items.pop()\n",
    "        return None \n",
    "    def peek(self):\n",
    "        \"\"\" This method returns the item at the top of the stack\n",
    "        \n",
    "        It does this in constant O(1) time\n",
    "        \"\"\"\n",
    "        if self.items:\n",
    "            return self.items[-1]\n",
    "        return None\n",
    "    def size(self):\n",
    "        \"\"\" It returns the length of the stack\n",
    "        It does this in constant O(1) time since all list elements are indexed\n",
    "        \"\"\"\n",
    "        return len(self.items)\n",
    "    \n",
    "  \n",
    "    def is_empty(self):\n",
    "        \"\"\" It returns a boolean depending on whether the stack is empty\n",
    "        or not\n",
    "        It does this in constant O(1) time based of the comparism below\n",
    "        \"\"\"\n",
    "        return self.items == []    \n",
    "   \n"
   ]
  }
 ],
 "metadata": {
  "kernelspec": {
   "display_name": "Python 3",
   "language": "python",
   "name": "python3"
  },
  "language_info": {
   "codemirror_mode": {
    "name": "ipython",
    "version": 3
   },
   "file_extension": ".py",
   "mimetype": "text/x-python",
   "name": "python",
   "nbconvert_exporter": "python",
   "pygments_lexer": "ipython3",
   "version": "3.7.7"
  }
 },
 "nbformat": 4,
 "nbformat_minor": 4
}
