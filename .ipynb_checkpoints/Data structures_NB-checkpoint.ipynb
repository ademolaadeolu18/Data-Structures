{
 "cells": [
  {
   "cell_type": "markdown",
   "metadata": {},
   "source": [
    "## This is a notebook to implement some common Abstract Datastructures"
   ]
  },
  {
   "cell_type": "code",
   "execution_count": 3,
   "metadata": {},
   "outputs": [],
   "source": [
    "\"\"\"This stack class is implemented based off the python list data structure\n",
    "\"\"\"\n",
    "class Stack:\n",
    "    def __init__(self):\n",
    "        self.items = []\n",
    "        \n",
    "    def push(self, item):\n",
    "        \"\"\" This method appends an item to the front of the list\n",
    "        top of the stack\n",
    "        \n",
    "        It appends the item in constant O(1)time\n",
    "        \"\"\"\n",
    "        self.items.append(item)\n",
    "    def pop(self):\n",
    "        \"\"\" This method removes and returns the element at the top \n",
    "        of the stack\n",
    "        \n",
    "        It removes the item at constant O(1) time\n",
    "        \"\"\"\n",
    "        if self.items:\n",
    "            return self.items.pop()\n",
    "        return None \n",
    "    def peek(self):\n",
    "        \"\"\" This method returns the item at the top of the stack\n",
    "        \n",
    "        It does this in constant O(1) time\n",
    "        \"\"\"\n",
    "        if self.items:\n",
    "            return self.items[-1]\n",
    "        return None\n",
    "    def size(self):\n",
    "        \"\"\" It returns the length of the stack\n",
    "        It does this in constant O(1) time since all list elements are indexed\n",
    "        \"\"\"\n",
    "        return len(self.items)\n",
    "    \n",
    "  \n",
    "    def is_empty(self):\n",
    "        \"\"\" It returns a boolean depending on whether the stack is empty\n",
    "        or not\n",
    "        It does this in constant O(1) time based off the comparism below\n",
    "        \"\"\"\n",
    "        return self.items == []    \n",
    "   \n"
   ]
  },
  {
   "cell_type": "code",
   "execution_count": 10,
   "metadata": {},
   "outputs": [],
   "source": [
    "first_stack = Stack()"
   ]
  },
  {
   "cell_type": "code",
   "execution_count": 11,
   "metadata": {},
   "outputs": [],
   "source": [
    "first_stack.push('Alabama') \n",
    "first_stack.push('Alaska')\n",
    "first_stack.push('Arkansas')"
   ]
  },
  {
   "cell_type": "code",
   "execution_count": 13,
   "metadata": {},
   "outputs": [
    {
     "data": {
      "text/plain": [
       "['Alabama', 'Alaska', 'Arkansas']"
      ]
     },
     "execution_count": 13,
     "metadata": {},
     "output_type": "execute_result"
    }
   ],
   "source": [
    "first_stack.items"
   ]
  },
  {
   "cell_type": "code",
   "execution_count": 15,
   "metadata": {},
   "outputs": [
    {
     "data": {
      "text/plain": [
       "['Alabama', 'Alaska', 'Arkansas']"
      ]
     },
     "execution_count": 15,
     "metadata": {},
     "output_type": "execute_result"
    }
   ],
   "source": [
    "first_stack.items"
   ]
  },
  {
   "cell_type": "code",
   "execution_count": null,
   "metadata": {},
   "outputs": [],
   "source": []
  },
  {
   "cell_type": "code",
   "execution_count": 20,
   "metadata": {},
   "outputs": [
    {
     "data": {
      "text/plain": [
       "'Arkansas'"
      ]
     },
     "execution_count": 20,
     "metadata": {},
     "output_type": "execute_result"
    }
   ],
   "source": [
    "first_stack.pop()"
   ]
  },
  {
   "cell_type": "code",
   "execution_count": 21,
   "metadata": {},
   "outputs": [
    {
     "data": {
      "text/plain": [
       "['Alabama', 'Alaska']"
      ]
     },
     "execution_count": 21,
     "metadata": {},
     "output_type": "execute_result"
    }
   ],
   "source": [
    "first_stack.items"
   ]
  },
  {
   "cell_type": "code",
   "execution_count": 22,
   "metadata": {},
   "outputs": [
    {
     "data": {
      "text/plain": [
       "'Alaska'"
      ]
     },
     "execution_count": 22,
     "metadata": {},
     "output_type": "execute_result"
    }
   ],
   "source": [
    "first_stack.peek()"
   ]
  },
  {
   "cell_type": "code",
   "execution_count": 26,
   "metadata": {},
   "outputs": [],
   "source": [
    "first_stack.push('Connecticut')"
   ]
  },
  {
   "cell_type": "code",
   "execution_count": 27,
   "metadata": {},
   "outputs": [
    {
     "data": {
      "text/plain": [
       "'Alaska'"
      ]
     },
     "execution_count": 27,
     "metadata": {},
     "output_type": "execute_result"
    }
   ],
   "source": [
    "first_stack.pop()\n",
    "first_stack.peek()"
   ]
  },
  {
   "cell_type": "code",
   "execution_count": 28,
   "metadata": {},
   "outputs": [
    {
     "data": {
      "text/plain": [
       "['Alabama', 'Alaska']"
      ]
     },
     "execution_count": 28,
     "metadata": {},
     "output_type": "execute_result"
    }
   ],
   "source": [
    "first_stack.items"
   ]
  },
  {
   "cell_type": "code",
   "execution_count": 29,
   "metadata": {},
   "outputs": [
    {
     "data": {
      "text/plain": [
       "2"
      ]
     },
     "execution_count": 29,
     "metadata": {},
     "output_type": "execute_result"
    }
   ],
   "source": [
    "first_stack.size()"
   ]
  },
  {
   "cell_type": "code",
   "execution_count": 31,
   "metadata": {},
   "outputs": [],
   "source": [
    "first_stack.push('Delaware')"
   ]
  },
  {
   "cell_type": "code",
   "execution_count": 32,
   "metadata": {},
   "outputs": [
    {
     "data": {
      "text/plain": [
       "['Alabama', 'Alaska', 'Delaware']"
      ]
     },
     "execution_count": 32,
     "metadata": {},
     "output_type": "execute_result"
    }
   ],
   "source": [
    "first_stack.items"
   ]
  },
  {
   "cell_type": "code",
   "execution_count": 33,
   "metadata": {},
   "outputs": [
    {
     "data": {
      "text/plain": [
       "3"
      ]
     },
     "execution_count": 33,
     "metadata": {},
     "output_type": "execute_result"
    }
   ],
   "source": [
    "first_stack.size()"
   ]
  },
  {
   "cell_type": "code",
   "execution_count": 34,
   "metadata": {},
   "outputs": [
    {
     "data": {
      "text/plain": [
       "False"
      ]
     },
     "execution_count": 34,
     "metadata": {},
     "output_type": "execute_result"
    }
   ],
   "source": [
    "first_stack.is_empty()"
   ]
  },
  {
   "cell_type": "code",
   "execution_count": 36,
   "metadata": {},
   "outputs": [
    {
     "data": {
      "text/plain": [
       "True"
      ]
     },
     "execution_count": 36,
     "metadata": {},
     "output_type": "execute_result"
    }
   ],
   "source": [
    "second_stack = Stack()\n",
    "second_stack.is_empty()"
   ]
  },
  {
   "cell_type": "code",
   "execution_count": 29,
   "metadata": {},
   "outputs": [],
   "source": [
    "# using the stack data structure to solve a toy problem\n",
    "def balanced_parenthesis(symbol_string):\n",
    "    symbol_dict = {'(':')', '[' :']', '{' :'}'}\n",
    "    openers = symbol_dict.keys()\n",
    "    symbol_stack = Stack()\n",
    "    \n",
    "    if len(symbol_string) == 0:\n",
    "         return False\n",
    "    if len(symbol_string) % 2 != 0 or symbol_string[0] not in openers:\n",
    "        return False\n",
    " \n",
    "       \n",
    "    for i in symbol_string:\n",
    "        if i in openers:\n",
    "            symbol_stack.push(i)\n",
    "        elif symbol_dict[symbol_stack.pop()] != i:\n",
    "                return False\n",
    "    return symbol_stack.is_empty()"
   ]
  },
  {
   "cell_type": "code",
   "execution_count": 30,
   "metadata": {},
   "outputs": [
    {
     "data": {
      "text/plain": [
       "True"
      ]
     },
     "execution_count": 30,
     "metadata": {},
     "output_type": "execute_result"
    }
   ],
   "source": [
    "sample = '(()[]{}{})'\n",
    "balanced_parenthesis(sample)"
   ]
  },
  {
   "cell_type": "code",
   "execution_count": 31,
   "metadata": {},
   "outputs": [
    {
     "data": {
      "text/plain": [
       "False"
      ]
     },
     "execution_count": 31,
     "metadata": {},
     "output_type": "execute_result"
    }
   ],
   "source": [
    "sample = '(()[]{}{}))'\n",
    "balanced_parenthesis(sample)"
   ]
  },
  {
   "cell_type": "code",
   "execution_count": 32,
   "metadata": {},
   "outputs": [
    {
     "data": {
      "text/plain": [
       "False"
      ]
     },
     "execution_count": 32,
     "metadata": {},
     "output_type": "execute_result"
    }
   ],
   "source": [
    "sample = ''\n",
    "balanced_parenthesis(sample)"
   ]
  },
  {
   "cell_type": "code",
   "execution_count": null,
   "metadata": {},
   "outputs": [],
   "source": []
  },
  {
   "cell_type": "code",
   "execution_count": 33,
   "metadata": {},
   "outputs": [],
   "source": [
    "\"\"\"This Queue Abstract Data Structure class is implemented based off the python list data structure\n",
    "\"\"\"\n",
    "\n",
    "class Queue:\n",
    "    def __init__(self):\n",
    "        self.items = []\n",
    "        \n",
    "    def enqueue(self, item):\n",
    "        \"\"\" This method inserts the item to the 0th index\n",
    "        It does this in O(n) linear time because if the list is not empty,\n",
    "        it has to shift all existing elements by an index\n",
    "        \"\"\"\n",
    "        self.items.insert(0, item)\n",
    "        \n",
    "    \n",
    "   \n",
    "    def dequeue(self):\n",
    "        \"\"\" This method returns the element at the front of the queue\n",
    "        It does this in O(1) constant time\n",
    "        \"\"\"\n",
    "        if self.items:\n",
    "            return self.items.pop()\n",
    "        \n",
    "        return None\n",
    "    \n",
    "    def peek(self):\n",
    "        \"\"\" This method returns the element at the front of the queue,\n",
    "        but does not remove it from the queue\n",
    "        It does this in O(1) constant time\n",
    "        \"\"\"\n",
    "        if self.items:\n",
    "            return self.items[-1]\n",
    "        \n",
    "        return None\n",
    "        \n",
    "    def size(self):\n",
    "        \"\"\" It returns the length of the queue\n",
    "        It does this in constant O(1) time since all list elements are indexed\n",
    "        \"\"\"\n",
    "        return len(self.items)\n",
    "    \n",
    "    def is_empty(self):\n",
    "        \"\"\" It returns a boolean depending on whether the queue is empty\n",
    "        or not\n",
    "        It does this in constant O(1) time based off the comparism below\n",
    "        \"\"\"\n",
    "        return self.items == []\n",
    "        \n",
    "    \n",
    "    "
   ]
  },
  {
   "cell_type": "code",
   "execution_count": null,
   "metadata": {},
   "outputs": [],
   "source": []
  },
  {
   "cell_type": "code",
   "execution_count": 34,
   "metadata": {},
   "outputs": [],
   "source": [
    "# Creating a max heap with max heapify function"
   ]
  },
  {
   "cell_type": "code",
   "execution_count": 64,
   "metadata": {},
   "outputs": [],
   "source": [
    "def max_heapify(arr, i): \n",
    "    l = (2*i) + 1\n",
    "    r = (2*i) + 2\n",
    "    if l < len(arr) and arr[l] > arr[i]:\n",
    "        largest_pos = l \n",
    "    else:\n",
    "        largest_pos = i\n",
    "    if r < len(arr) and arr[largest_pos] < arr[r]:\n",
    "        largest_pos = r\n",
    "    \n",
    "    if largest_pos != i:\n",
    "        arr[i], arr[largest_pos] = arr[largest_pos], arr[i]\n",
    "        max_heapify(arr, largest_pos)\n",
    "        \n",
    "        \n",
    "        \n",
    "def max_heap(arr):\n",
    "    n = len(arr)//2\n",
    "    if len(arr) == 0:\n",
    "        return False\n",
    "    for i in range(n, -1, -1):\n",
    "        max_heapify(arr, i)\n",
    "    return arr\n",
    "    "
   ]
  },
  {
   "cell_type": "code",
   "execution_count": 65,
   "metadata": {},
   "outputs": [
    {
     "data": {
      "text/plain": [
       "[11, 8, 7, 0, 6, 2, 5]"
      ]
     },
     "execution_count": 65,
     "metadata": {},
     "output_type": "execute_result"
    }
   ],
   "source": [
    "a = [11,6,5,0,8,2,7]\n",
    "max_heap(a)"
   ]
  },
  {
   "cell_type": "code",
   "execution_count": 66,
   "metadata": {},
   "outputs": [
    {
     "data": {
      "text/plain": [
       "[2]"
      ]
     },
     "execution_count": 66,
     "metadata": {},
     "output_type": "execute_result"
    }
   ],
   "source": [
    "b = [2]\n",
    "a = [11,6,5,0,8,2,7]\n",
    "c = []\n",
    "max_heap(b)"
   ]
  },
  {
   "cell_type": "code",
   "execution_count": 67,
   "metadata": {},
   "outputs": [
    {
     "data": {
      "text/plain": [
       "False"
      ]
     },
     "execution_count": 67,
     "metadata": {},
     "output_type": "execute_result"
    }
   ],
   "source": [
    "c = []\n",
    "max_heap(c)"
   ]
  },
  {
   "cell_type": "code",
   "execution_count": 68,
   "metadata": {},
   "outputs": [
    {
     "data": {
      "text/plain": [
       "[14, 10, 12, 8, 4, 1, 6]"
      ]
     },
     "execution_count": 68,
     "metadata": {},
     "output_type": "execute_result"
    }
   ],
   "source": [
    "d = [1,4,6,8,10,12,14]\n",
    "max_heap(d)"
   ]
  },
  {
   "cell_type": "code",
   "execution_count": 82,
   "metadata": {},
   "outputs": [],
   "source": [
    "# Heap sort\n",
    "\n",
    "def max_heapify(arr,n, i): \n",
    "    l = (2*i) + 1\n",
    "    r = (2*i) + 2\n",
    "    if l < n and arr[l] > arr[i]:\n",
    "        largest_pos = l \n",
    "    else:\n",
    "        largest_pos = i\n",
    "    if r < n and arr[largest_pos] < arr[r]:\n",
    "        largest_pos = r\n",
    "    \n",
    "    if largest_pos != i:\n",
    "        arr[i], arr[largest_pos] = arr[largest_pos], arr[i]\n",
    "        max_heapify(arr, n,largest_pos)\n",
    "        \n",
    "        \n",
    "        \n",
    "def heap_sort(arr):\n",
    "    n = len(arr)\n",
    "    if len(arr) == 0:\n",
    "        return False\n",
    "    for i in range(n, -1, -1):\n",
    "        max_heapify(arr,n, i)\n",
    "    for i in range(n-1, 0, -1):\n",
    "        arr[0], arr[i] = arr[i], arr[0]\n",
    "        max_heapify(arr, i, 0)\n",
    "    return arr"
   ]
  },
  {
   "cell_type": "code",
   "execution_count": 83,
   "metadata": {},
   "outputs": [
    {
     "data": {
      "text/plain": [
       "[0, 2, 5, 6, 7, 8, 11]"
      ]
     },
     "execution_count": 83,
     "metadata": {},
     "output_type": "execute_result"
    }
   ],
   "source": [
    "a = [11,6,5,0,8,2,7]\n",
    "heap_sort(a)"
   ]
  },
  {
   "cell_type": "code",
   "execution_count": 84,
   "metadata": {},
   "outputs": [
    {
     "data": {
      "text/plain": [
       "False"
      ]
     },
     "execution_count": 84,
     "metadata": {},
     "output_type": "execute_result"
    }
   ],
   "source": [
    "b = []\n",
    "heap_sort(b)\n",
    "\n"
   ]
  },
  {
   "cell_type": "code",
   "execution_count": 85,
   "metadata": {},
   "outputs": [
    {
     "data": {
      "text/plain": [
       "[2]"
      ]
     },
     "execution_count": 85,
     "metadata": {},
     "output_type": "execute_result"
    }
   ],
   "source": [
    "c = [2]\n",
    "heap_sort(c)"
   ]
  },
  {
   "cell_type": "code",
   "execution_count": 81,
   "metadata": {},
   "outputs": [
    {
     "name": "stdout",
     "output_type": "stream",
     "text": [
      "[15, 14, 13, 12]\n"
     ]
    }
   ],
   "source": []
  },
  {
   "cell_type": "code",
   "execution_count": 1,
   "metadata": {},
   "outputs": [],
   "source": [
    "def reverse_list(arr):\n",
    "    p1 = 0\n",
    "    p2 = len(arr)-1\n",
    "    while p1 < p2:\n",
    "        arr[p1], arr[p2] = arr[p2], arr[p1]\n",
    "        p1+=1\n",
    "        p2-=1\n",
    "    return arr"
   ]
  },
  {
   "cell_type": "code",
   "execution_count": 2,
   "metadata": {},
   "outputs": [
    {
     "name": "stdout",
     "output_type": "stream",
     "text": [
      "[15, 14, 13, 12]\n"
     ]
    }
   ],
   "source": [
    "b = [12,13,14,15]\n",
    "c = []\n",
    "for i in range(len(b)-1, -1, -1):\n",
    "    c.append(b[i])\n",
    "print(c)"
   ]
  },
  {
   "cell_type": "code",
   "execution_count": null,
   "metadata": {},
   "outputs": [],
   "source": []
  },
  {
   "cell_type": "code",
   "execution_count": 39,
   "metadata": {},
   "outputs": [],
   "source": [
    "def subpal(char):\n",
    "    s = set()\n",
    "    current_longest = [0, 1]\n",
    "    for i in range(1, len(char)):\n",
    "        odd = helper(char, i-1, i+1)\n",
    "        even = helper(char, i-1, i)\n",
    "        longest = max (odd, even, key = lambda x: x[1] - x[0])\n",
    "        current_longest = max (longest, current_longest, key= lambda x: x[1] - x[0])\n",
    "    \n",
    "    return char[current_longest[0]: current_longest[1]]\n",
    "\n",
    "def helper(char, left, right):\n",
    "    while left>= 0 and right < len(char):\n",
    "        if char[left] != char[right]:\n",
    "            break\n",
    "        left-=1\n",
    "        right+=1\n",
    "    return [left+1, right]\n",
    "        \n",
    "\n",
    "    \n",
    "        \n",
    "            \n"
   ]
  },
  {
   "cell_type": "code",
   "execution_count": 40,
   "metadata": {},
   "outputs": [
    {
     "data": {
      "text/plain": [
       "'okko'"
      ]
     },
     "execution_count": 40,
     "metadata": {},
     "output_type": "execute_result"
    }
   ],
   "source": [
    "\n",
    "st = 'mokkori'\n",
    "subpal(st)"
   ]
  },
  {
   "cell_type": "code",
   "execution_count": 41,
   "metadata": {},
   "outputs": [
    {
     "data": {
      "text/plain": [
       "'bcyxbbxycb'"
      ]
     },
     "execution_count": 41,
     "metadata": {},
     "output_type": "execute_result"
    }
   ],
   "source": [
    "new = 'abcyxbbxycbde'\n",
    "subpal(new)\n"
   ]
  },
  {
   "cell_type": "code",
   "execution_count": null,
   "metadata": {},
   "outputs": [],
   "source": []
  }
 ],
 "metadata": {
  "kernelspec": {
   "display_name": "Python 3",
   "language": "python",
   "name": "python3"
  },
  "language_info": {
   "codemirror_mode": {
    "name": "ipython",
    "version": 3
   },
   "file_extension": ".py",
   "mimetype": "text/x-python",
   "name": "python",
   "nbconvert_exporter": "python",
   "pygments_lexer": "ipython3",
   "version": "3.7.7"
  }
 },
 "nbformat": 4,
 "nbformat_minor": 4
}
